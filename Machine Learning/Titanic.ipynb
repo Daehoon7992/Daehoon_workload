{
  "nbformat": 4,
  "nbformat_minor": 0,
  "metadata": {
    "kernelspec": {
      "display_name": "Python 3",
      "language": "python",
      "name": "python3"
    },
    "language_info": {
      "codemirror_mode": {
        "name": "ipython",
        "version": 3
      },
      "file_extension": ".py",
      "mimetype": "text/x-python",
      "name": "python",
      "nbconvert_exporter": "python",
      "pygments_lexer": "ipython3",
      "version": "3.6.6"
    },
    "colab": {
      "name": "Titanic.ipynb",
      "provenance": [],
      "collapsed_sections": []
    }
  },
  "cells": [
    {
      "cell_type": "markdown",
      "metadata": {
        "id": "llAymSXFiSMw"
      },
      "source": [
        "![alt text](data:image/jpeg;base64,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)"
      ]
    },
    {
      "cell_type": "markdown",
      "metadata": {
        "id": "G2CZ__TgkJ2o"
      },
      "source": [
        "Importing libraries:"
      ]
    },
    {
      "cell_type": "code",
      "metadata": {
        "_cell_guid": "b1076dfc-b9ad-4769-8c92-a6c4dae69d19",
        "_uuid": "8f2839f25d086af736a60e9eeb907d3b93b6e0e5",
        "id": "SlY90p7qcP1P"
      },
      "source": [
        "import numpy as np # linear algebra\n",
        "import pandas as pd # data processing, CSV file I/O (e.g. pd.read_csv)\n",
        "import xgboost as xgb\n",
        "from sklearn import model_selection\n",
        "from sklearn.preprocessing import LabelEncoder\n",
        "from sklearn.model_selection import train_test_split\n",
        "import os"
      ],
      "execution_count": null,
      "outputs": []
    },
    {
      "cell_type": "markdown",
      "metadata": {
        "id": "aVyC3rFQkN1p"
      },
      "source": [
        "Loading in our csv from Github URL:"
      ]
    },
    {
      "cell_type": "code",
      "metadata": {
        "id": "xhGh4hfBcP1V",
        "colab": {
          "base_uri": "https://localhost:8080/",
          "height": 410
        },
        "outputId": "3a026fc3-d48a-4c83-bb38-6e54b7b16ea0"
      },
      "source": [
        "train = pd.read_csv('/train.csv')\n",
        "train.head(10)"
      ],
      "execution_count": null,
      "outputs": [
        {
          "output_type": "execute_result",
          "data": {
            "text/html": [
              "<div>\n",
              "<style scoped>\n",
              "    .dataframe tbody tr th:only-of-type {\n",
              "        vertical-align: middle;\n",
              "    }\n",
              "\n",
              "    .dataframe tbody tr th {\n",
              "        vertical-align: top;\n",
              "    }\n",
              "\n",
              "    .dataframe thead th {\n",
              "        text-align: right;\n",
              "    }\n",
              "</style>\n",
              "<table border=\"1\" class=\"dataframe\">\n",
              "  <thead>\n",
              "    <tr style=\"text-align: right;\">\n",
              "      <th></th>\n",
              "      <th>PassengerId</th>\n",
              "      <th>Survived</th>\n",
              "      <th>Pclass</th>\n",
              "      <th>Name</th>\n",
              "      <th>Sex</th>\n",
              "      <th>Age</th>\n",
              "      <th>SibSp</th>\n",
              "      <th>Parch</th>\n",
              "      <th>Ticket</th>\n",
              "      <th>Fare</th>\n",
              "      <th>Cabin</th>\n",
              "      <th>Embarked</th>\n",
              "    </tr>\n",
              "  </thead>\n",
              "  <tbody>\n",
              "    <tr>\n",
              "      <th>0</th>\n",
              "      <td>1</td>\n",
              "      <td>0</td>\n",
              "      <td>3</td>\n",
              "      <td>Braund, Mr. Owen Harris</td>\n",
              "      <td>male</td>\n",
              "      <td>22.0</td>\n",
              "      <td>1</td>\n",
              "      <td>0</td>\n",
              "      <td>A/5 21171</td>\n",
              "      <td>7.2500</td>\n",
              "      <td>NaN</td>\n",
              "      <td>S</td>\n",
              "    </tr>\n",
              "    <tr>\n",
              "      <th>1</th>\n",
              "      <td>2</td>\n",
              "      <td>1</td>\n",
              "      <td>1</td>\n",
              "      <td>Cumings, Mrs. John Bradley (Florence Briggs Th...</td>\n",
              "      <td>female</td>\n",
              "      <td>38.0</td>\n",
              "      <td>1</td>\n",
              "      <td>0</td>\n",
              "      <td>PC 17599</td>\n",
              "      <td>71.2833</td>\n",
              "      <td>C85</td>\n",
              "      <td>C</td>\n",
              "    </tr>\n",
              "    <tr>\n",
              "      <th>2</th>\n",
              "      <td>3</td>\n",
              "      <td>1</td>\n",
              "      <td>3</td>\n",
              "      <td>Heikkinen, Miss. Laina</td>\n",
              "      <td>female</td>\n",
              "      <td>26.0</td>\n",
              "      <td>0</td>\n",
              "      <td>0</td>\n",
              "      <td>STON/O2. 3101282</td>\n",
              "      <td>7.9250</td>\n",
              "      <td>NaN</td>\n",
              "      <td>S</td>\n",
              "    </tr>\n",
              "    <tr>\n",
              "      <th>3</th>\n",
              "      <td>4</td>\n",
              "      <td>1</td>\n",
              "      <td>1</td>\n",
              "      <td>Futrelle, Mrs. Jacques Heath (Lily May Peel)</td>\n",
              "      <td>female</td>\n",
              "      <td>35.0</td>\n",
              "      <td>1</td>\n",
              "      <td>0</td>\n",
              "      <td>113803</td>\n",
              "      <td>53.1000</td>\n",
              "      <td>C123</td>\n",
              "      <td>S</td>\n",
              "    </tr>\n",
              "    <tr>\n",
              "      <th>4</th>\n",
              "      <td>5</td>\n",
              "      <td>0</td>\n",
              "      <td>3</td>\n",
              "      <td>Allen, Mr. William Henry</td>\n",
              "      <td>male</td>\n",
              "      <td>35.0</td>\n",
              "      <td>0</td>\n",
              "      <td>0</td>\n",
              "      <td>373450</td>\n",
              "      <td>8.0500</td>\n",
              "      <td>NaN</td>\n",
              "      <td>S</td>\n",
              "    </tr>\n",
              "    <tr>\n",
              "      <th>5</th>\n",
              "      <td>6</td>\n",
              "      <td>0</td>\n",
              "      <td>3</td>\n",
              "      <td>Moran, Mr. James</td>\n",
              "      <td>male</td>\n",
              "      <td>NaN</td>\n",
              "      <td>0</td>\n",
              "      <td>0</td>\n",
              "      <td>330877</td>\n",
              "      <td>8.4583</td>\n",
              "      <td>NaN</td>\n",
              "      <td>Q</td>\n",
              "    </tr>\n",
              "    <tr>\n",
              "      <th>6</th>\n",
              "      <td>7</td>\n",
              "      <td>0</td>\n",
              "      <td>1</td>\n",
              "      <td>McCarthy, Mr. Timothy J</td>\n",
              "      <td>male</td>\n",
              "      <td>54.0</td>\n",
              "      <td>0</td>\n",
              "      <td>0</td>\n",
              "      <td>17463</td>\n",
              "      <td>51.8625</td>\n",
              "      <td>E46</td>\n",
              "      <td>S</td>\n",
              "    </tr>\n",
              "    <tr>\n",
              "      <th>7</th>\n",
              "      <td>8</td>\n",
              "      <td>0</td>\n",
              "      <td>3</td>\n",
              "      <td>Palsson, Master. Gosta Leonard</td>\n",
              "      <td>male</td>\n",
              "      <td>2.0</td>\n",
              "      <td>3</td>\n",
              "      <td>1</td>\n",
              "      <td>349909</td>\n",
              "      <td>21.0750</td>\n",
              "      <td>NaN</td>\n",
              "      <td>S</td>\n",
              "    </tr>\n",
              "    <tr>\n",
              "      <th>8</th>\n",
              "      <td>9</td>\n",
              "      <td>1</td>\n",
              "      <td>3</td>\n",
              "      <td>Johnson, Mrs. Oscar W (Elisabeth Vilhelmina Berg)</td>\n",
              "      <td>female</td>\n",
              "      <td>27.0</td>\n",
              "      <td>0</td>\n",
              "      <td>2</td>\n",
              "      <td>347742</td>\n",
              "      <td>11.1333</td>\n",
              "      <td>NaN</td>\n",
              "      <td>S</td>\n",
              "    </tr>\n",
              "    <tr>\n",
              "      <th>9</th>\n",
              "      <td>10</td>\n",
              "      <td>1</td>\n",
              "      <td>2</td>\n",
              "      <td>Nasser, Mrs. Nicholas (Adele Achem)</td>\n",
              "      <td>female</td>\n",
              "      <td>14.0</td>\n",
              "      <td>1</td>\n",
              "      <td>0</td>\n",
              "      <td>237736</td>\n",
              "      <td>30.0708</td>\n",
              "      <td>NaN</td>\n",
              "      <td>C</td>\n",
              "    </tr>\n",
              "  </tbody>\n",
              "</table>\n",
              "</div>"
            ],
            "text/plain": [
              "   PassengerId  Survived  Pclass  ...     Fare Cabin  Embarked\n",
              "0            1         0       3  ...   7.2500   NaN         S\n",
              "1            2         1       1  ...  71.2833   C85         C\n",
              "2            3         1       3  ...   7.9250   NaN         S\n",
              "3            4         1       1  ...  53.1000  C123         S\n",
              "4            5         0       3  ...   8.0500   NaN         S\n",
              "5            6         0       3  ...   8.4583   NaN         Q\n",
              "6            7         0       1  ...  51.8625   E46         S\n",
              "7            8         0       3  ...  21.0750   NaN         S\n",
              "8            9         1       3  ...  11.1333   NaN         S\n",
              "9           10         1       2  ...  30.0708   NaN         C\n",
              "\n",
              "[10 rows x 12 columns]"
            ]
          },
          "metadata": {
            "tags": []
          },
          "execution_count": 3
        }
      ]
    },
    {
      "cell_type": "markdown",
      "metadata": {
        "id": "b6Bd86BukUA_"
      },
      "source": [
        "Some basic EDA:"
      ]
    },
    {
      "cell_type": "code",
      "metadata": {
        "id": "xWi_PfjqmLsa",
        "colab": {
          "base_uri": "https://localhost:8080/",
          "height": 238
        },
        "outputId": "7f22e186-6ae5-4988-eaca-9e45ff0181b8"
      },
      "source": [
        "# Do we have any blanks in our data?\n",
        "train.isnull().sum()"
      ],
      "execution_count": null,
      "outputs": [
        {
          "output_type": "execute_result",
          "data": {
            "text/plain": [
              "PassengerId      0\n",
              "Survived         0\n",
              "Pclass           0\n",
              "Name             0\n",
              "Sex              0\n",
              "Age            177\n",
              "SibSp            0\n",
              "Parch            0\n",
              "Ticket           0\n",
              "Fare             0\n",
              "Cabin          687\n",
              "Embarked         2\n",
              "dtype: int64"
            ]
          },
          "metadata": {
            "tags": []
          },
          "execution_count": 4
        }
      ]
    },
    {
      "cell_type": "code",
      "metadata": {
        "id": "1kF-JI6VYhWe",
        "colab": {
          "base_uri": "https://localhost:8080/",
          "height": 34
        },
        "outputId": "9c27ab78-0653-4ee5-9018-377c3e4469e4"
      },
      "source": [
        "train.shape"
      ],
      "execution_count": null,
      "outputs": [
        {
          "output_type": "execute_result",
          "data": {
            "text/plain": [
              "(891, 12)"
            ]
          },
          "metadata": {
            "tags": []
          },
          "execution_count": 5
        }
      ]
    },
    {
      "cell_type": "code",
      "metadata": {
        "id": "Y6zMe1qMjMWi",
        "colab": {
          "base_uri": "https://localhost:8080/",
          "height": 68
        },
        "outputId": "533439f2-8373-46f6-95c9-775b7ba98e4c"
      },
      "source": [
        "# Gender Distribution\n",
        "train['Sex'].value_counts()"
      ],
      "execution_count": null,
      "outputs": [
        {
          "output_type": "execute_result",
          "data": {
            "text/plain": [
              "male      577\n",
              "female    314\n",
              "Name: Sex, dtype: int64"
            ]
          },
          "metadata": {
            "tags": []
          },
          "execution_count": 6
        }
      ]
    },
    {
      "cell_type": "code",
      "metadata": {
        "id": "HDEnxCTljFWk",
        "colab": {
          "base_uri": "https://localhost:8080/",
          "height": 68
        },
        "outputId": "c978554d-f4f3-4190-802e-1633ac0c8cbe"
      },
      "source": [
        "# Survival Distribution\n",
        "train['Survived'].value_counts()"
      ],
      "execution_count": null,
      "outputs": [
        {
          "output_type": "execute_result",
          "data": {
            "text/plain": [
              "0    549\n",
              "1    342\n",
              "Name: Survived, dtype: int64"
            ]
          },
          "metadata": {
            "tags": []
          },
          "execution_count": 7
        }
      ]
    },
    {
      "cell_type": "code",
      "metadata": {
        "id": "5fDpvvgzkgWN",
        "colab": {
          "base_uri": "https://localhost:8080/",
          "height": 119
        },
        "outputId": "2b158ac6-15ee-4719-a205-5d89f4e580db"
      },
      "source": [
        "# Survival rates between gender\n",
        "train.groupby(['Sex','Survived'])['Survived'].count()"
      ],
      "execution_count": null,
      "outputs": [
        {
          "output_type": "execute_result",
          "data": {
            "text/plain": [
              "Sex     Survived\n",
              "female  0            81\n",
              "        1           233\n",
              "male    0           468\n",
              "        1           109\n",
              "Name: Survived, dtype: int64"
            ]
          },
          "metadata": {
            "tags": []
          },
          "execution_count": 8
        }
      ]
    },
    {
      "cell_type": "code",
      "metadata": {
        "id": "CB8ev0Bwjqul",
        "colab": {
          "base_uri": "https://localhost:8080/",
          "height": 34
        },
        "outputId": "fc00b626-cf8f-4498-e55b-a7601918d619"
      },
      "source": [
        "# Average ticket price\n",
        "train.mean(axis=0,skipna=True)['Fare']"
      ],
      "execution_count": null,
      "outputs": [
        {
          "output_type": "execute_result",
          "data": {
            "text/plain": [
              "32.2042079685746"
            ]
          },
          "metadata": {
            "tags": []
          },
          "execution_count": 11
        }
      ]
    },
    {
      "cell_type": "code",
      "metadata": {
        "id": "kgP1omcscP1d"
      },
      "source": [
        "# Average age\n",
        "meanAge=train.mean(axis=0,skipna=True)['Age']"
      ],
      "execution_count": null,
      "outputs": []
    },
    {
      "cell_type": "markdown",
      "metadata": {
        "id": "JZ5xgxKsm1po"
      },
      "source": [
        "Engineering our features for further analysis (a.k.a. Machine Learning):"
      ]
    },
    {
      "cell_type": "code",
      "metadata": {
        "id": "hFYrGMNQcP1h",
        "colab": {
          "base_uri": "https://localhost:8080/",
          "height": 255
        },
        "outputId": "4237a761-afba-4fb9-c946-937515671159"
      },
      "source": [
        "# Imputing null values in Age with the mean of Age\n",
        "# Creating a categorical variable to capture age groups\n",
        "train['Age'].fillna(meanAge,inplace=True)\n",
        "train['AgeBand'] = pd.cut(train['Age'],5, labels=range(5)).astype(int)\n",
        "train.head()"
      ],
      "execution_count": null,
      "outputs": [
        {
          "output_type": "execute_result",
          "data": {
            "text/html": [
              "<div>\n",
              "<style scoped>\n",
              "    .dataframe tbody tr th:only-of-type {\n",
              "        vertical-align: middle;\n",
              "    }\n",
              "\n",
              "    .dataframe tbody tr th {\n",
              "        vertical-align: top;\n",
              "    }\n",
              "\n",
              "    .dataframe thead th {\n",
              "        text-align: right;\n",
              "    }\n",
              "</style>\n",
              "<table border=\"1\" class=\"dataframe\">\n",
              "  <thead>\n",
              "    <tr style=\"text-align: right;\">\n",
              "      <th></th>\n",
              "      <th>PassengerId</th>\n",
              "      <th>Survived</th>\n",
              "      <th>Pclass</th>\n",
              "      <th>Name</th>\n",
              "      <th>Sex</th>\n",
              "      <th>Age</th>\n",
              "      <th>SibSp</th>\n",
              "      <th>Parch</th>\n",
              "      <th>Ticket</th>\n",
              "      <th>Fare</th>\n",
              "      <th>Cabin</th>\n",
              "      <th>Embarked</th>\n",
              "      <th>AgeBand</th>\n",
              "    </tr>\n",
              "  </thead>\n",
              "  <tbody>\n",
              "    <tr>\n",
              "      <th>0</th>\n",
              "      <td>1</td>\n",
              "      <td>0</td>\n",
              "      <td>3</td>\n",
              "      <td>Braund, Mr. Owen Harris</td>\n",
              "      <td>male</td>\n",
              "      <td>22.0</td>\n",
              "      <td>1</td>\n",
              "      <td>0</td>\n",
              "      <td>A/5 21171</td>\n",
              "      <td>7.2500</td>\n",
              "      <td>NaN</td>\n",
              "      <td>S</td>\n",
              "      <td>1</td>\n",
              "    </tr>\n",
              "    <tr>\n",
              "      <th>1</th>\n",
              "      <td>2</td>\n",
              "      <td>1</td>\n",
              "      <td>1</td>\n",
              "      <td>Cumings, Mrs. John Bradley (Florence Briggs Th...</td>\n",
              "      <td>female</td>\n",
              "      <td>38.0</td>\n",
              "      <td>1</td>\n",
              "      <td>0</td>\n",
              "      <td>PC 17599</td>\n",
              "      <td>71.2833</td>\n",
              "      <td>C85</td>\n",
              "      <td>C</td>\n",
              "      <td>2</td>\n",
              "    </tr>\n",
              "    <tr>\n",
              "      <th>2</th>\n",
              "      <td>3</td>\n",
              "      <td>1</td>\n",
              "      <td>3</td>\n",
              "      <td>Heikkinen, Miss. Laina</td>\n",
              "      <td>female</td>\n",
              "      <td>26.0</td>\n",
              "      <td>0</td>\n",
              "      <td>0</td>\n",
              "      <td>STON/O2. 3101282</td>\n",
              "      <td>7.9250</td>\n",
              "      <td>NaN</td>\n",
              "      <td>S</td>\n",
              "      <td>1</td>\n",
              "    </tr>\n",
              "    <tr>\n",
              "      <th>3</th>\n",
              "      <td>4</td>\n",
              "      <td>1</td>\n",
              "      <td>1</td>\n",
              "      <td>Futrelle, Mrs. Jacques Heath (Lily May Peel)</td>\n",
              "      <td>female</td>\n",
              "      <td>35.0</td>\n",
              "      <td>1</td>\n",
              "      <td>0</td>\n",
              "      <td>113803</td>\n",
              "      <td>53.1000</td>\n",
              "      <td>C123</td>\n",
              "      <td>S</td>\n",
              "      <td>2</td>\n",
              "    </tr>\n",
              "    <tr>\n",
              "      <th>4</th>\n",
              "      <td>5</td>\n",
              "      <td>0</td>\n",
              "      <td>3</td>\n",
              "      <td>Allen, Mr. William Henry</td>\n",
              "      <td>male</td>\n",
              "      <td>35.0</td>\n",
              "      <td>0</td>\n",
              "      <td>0</td>\n",
              "      <td>373450</td>\n",
              "      <td>8.0500</td>\n",
              "      <td>NaN</td>\n",
              "      <td>S</td>\n",
              "      <td>2</td>\n",
              "    </tr>\n",
              "  </tbody>\n",
              "</table>\n",
              "</div>"
            ],
            "text/plain": [
              "   PassengerId  Survived  Pclass  ... Cabin Embarked  AgeBand\n",
              "0            1         0       3  ...   NaN        S        1\n",
              "1            2         1       1  ...   C85        C        2\n",
              "2            3         1       3  ...   NaN        S        1\n",
              "3            4         1       1  ...  C123        S        2\n",
              "4            5         0       3  ...   NaN        S        2\n",
              "\n",
              "[5 rows x 13 columns]"
            ]
          },
          "metadata": {
            "tags": []
          },
          "execution_count": 20
        }
      ]
    },
    {
      "cell_type": "code",
      "metadata": {
        "id": "ucHRuh3ocP1Z",
        "colab": {
          "base_uri": "https://localhost:8080/",
          "height": 606
        },
        "outputId": "d028590e-5e44-4e5c-fa73-1a764899093d"
      },
      "source": [
        "# Extracting the title from passengers' names\n",
        "\n",
        "train['Title'] = train['Name'].str.extract('([A-Za-z]+)\\.',expand=False)\n",
        "train"
      ],
      "execution_count": null,
      "outputs": [
        {
          "output_type": "execute_result",
          "data": {
            "text/html": [
              "<div>\n",
              "<style scoped>\n",
              "    .dataframe tbody tr th:only-of-type {\n",
              "        vertical-align: middle;\n",
              "    }\n",
              "\n",
              "    .dataframe tbody tr th {\n",
              "        vertical-align: top;\n",
              "    }\n",
              "\n",
              "    .dataframe thead th {\n",
              "        text-align: right;\n",
              "    }\n",
              "</style>\n",
              "<table border=\"1\" class=\"dataframe\">\n",
              "  <thead>\n",
              "    <tr style=\"text-align: right;\">\n",
              "      <th></th>\n",
              "      <th>PassengerId</th>\n",
              "      <th>Survived</th>\n",
              "      <th>Pclass</th>\n",
              "      <th>Name</th>\n",
              "      <th>Sex</th>\n",
              "      <th>Age</th>\n",
              "      <th>SibSp</th>\n",
              "      <th>Parch</th>\n",
              "      <th>Ticket</th>\n",
              "      <th>Fare</th>\n",
              "      <th>Cabin</th>\n",
              "      <th>Embarked</th>\n",
              "      <th>AgeBand</th>\n",
              "      <th>Title</th>\n",
              "    </tr>\n",
              "  </thead>\n",
              "  <tbody>\n",
              "    <tr>\n",
              "      <th>0</th>\n",
              "      <td>1</td>\n",
              "      <td>0</td>\n",
              "      <td>3</td>\n",
              "      <td>Braund, Mr. Owen Harris</td>\n",
              "      <td>male</td>\n",
              "      <td>22.000000</td>\n",
              "      <td>1</td>\n",
              "      <td>0</td>\n",
              "      <td>A/5 21171</td>\n",
              "      <td>7.2500</td>\n",
              "      <td>NaN</td>\n",
              "      <td>S</td>\n",
              "      <td>1</td>\n",
              "      <td>Mr</td>\n",
              "    </tr>\n",
              "    <tr>\n",
              "      <th>1</th>\n",
              "      <td>2</td>\n",
              "      <td>1</td>\n",
              "      <td>1</td>\n",
              "      <td>Cumings, Mrs. John Bradley (Florence Briggs Th...</td>\n",
              "      <td>female</td>\n",
              "      <td>38.000000</td>\n",
              "      <td>1</td>\n",
              "      <td>0</td>\n",
              "      <td>PC 17599</td>\n",
              "      <td>71.2833</td>\n",
              "      <td>C85</td>\n",
              "      <td>C</td>\n",
              "      <td>2</td>\n",
              "      <td>Mrs</td>\n",
              "    </tr>\n",
              "    <tr>\n",
              "      <th>2</th>\n",
              "      <td>3</td>\n",
              "      <td>1</td>\n",
              "      <td>3</td>\n",
              "      <td>Heikkinen, Miss. Laina</td>\n",
              "      <td>female</td>\n",
              "      <td>26.000000</td>\n",
              "      <td>0</td>\n",
              "      <td>0</td>\n",
              "      <td>STON/O2. 3101282</td>\n",
              "      <td>7.9250</td>\n",
              "      <td>NaN</td>\n",
              "      <td>S</td>\n",
              "      <td>1</td>\n",
              "      <td>Miss</td>\n",
              "    </tr>\n",
              "    <tr>\n",
              "      <th>3</th>\n",
              "      <td>4</td>\n",
              "      <td>1</td>\n",
              "      <td>1</td>\n",
              "      <td>Futrelle, Mrs. Jacques Heath (Lily May Peel)</td>\n",
              "      <td>female</td>\n",
              "      <td>35.000000</td>\n",
              "      <td>1</td>\n",
              "      <td>0</td>\n",
              "      <td>113803</td>\n",
              "      <td>53.1000</td>\n",
              "      <td>C123</td>\n",
              "      <td>S</td>\n",
              "      <td>2</td>\n",
              "      <td>Mrs</td>\n",
              "    </tr>\n",
              "    <tr>\n",
              "      <th>4</th>\n",
              "      <td>5</td>\n",
              "      <td>0</td>\n",
              "      <td>3</td>\n",
              "      <td>Allen, Mr. William Henry</td>\n",
              "      <td>male</td>\n",
              "      <td>35.000000</td>\n",
              "      <td>0</td>\n",
              "      <td>0</td>\n",
              "      <td>373450</td>\n",
              "      <td>8.0500</td>\n",
              "      <td>NaN</td>\n",
              "      <td>S</td>\n",
              "      <td>2</td>\n",
              "      <td>Mr</td>\n",
              "    </tr>\n",
              "    <tr>\n",
              "      <th>...</th>\n",
              "      <td>...</td>\n",
              "      <td>...</td>\n",
              "      <td>...</td>\n",
              "      <td>...</td>\n",
              "      <td>...</td>\n",
              "      <td>...</td>\n",
              "      <td>...</td>\n",
              "      <td>...</td>\n",
              "      <td>...</td>\n",
              "      <td>...</td>\n",
              "      <td>...</td>\n",
              "      <td>...</td>\n",
              "      <td>...</td>\n",
              "      <td>...</td>\n",
              "    </tr>\n",
              "    <tr>\n",
              "      <th>886</th>\n",
              "      <td>887</td>\n",
              "      <td>0</td>\n",
              "      <td>2</td>\n",
              "      <td>Montvila, Rev. Juozas</td>\n",
              "      <td>male</td>\n",
              "      <td>27.000000</td>\n",
              "      <td>0</td>\n",
              "      <td>0</td>\n",
              "      <td>211536</td>\n",
              "      <td>13.0000</td>\n",
              "      <td>NaN</td>\n",
              "      <td>S</td>\n",
              "      <td>1</td>\n",
              "      <td>Rev</td>\n",
              "    </tr>\n",
              "    <tr>\n",
              "      <th>887</th>\n",
              "      <td>888</td>\n",
              "      <td>1</td>\n",
              "      <td>1</td>\n",
              "      <td>Graham, Miss. Margaret Edith</td>\n",
              "      <td>female</td>\n",
              "      <td>19.000000</td>\n",
              "      <td>0</td>\n",
              "      <td>0</td>\n",
              "      <td>112053</td>\n",
              "      <td>30.0000</td>\n",
              "      <td>B42</td>\n",
              "      <td>S</td>\n",
              "      <td>1</td>\n",
              "      <td>Miss</td>\n",
              "    </tr>\n",
              "    <tr>\n",
              "      <th>888</th>\n",
              "      <td>889</td>\n",
              "      <td>0</td>\n",
              "      <td>3</td>\n",
              "      <td>Johnston, Miss. Catherine Helen \"Carrie\"</td>\n",
              "      <td>female</td>\n",
              "      <td>29.699118</td>\n",
              "      <td>1</td>\n",
              "      <td>2</td>\n",
              "      <td>W./C. 6607</td>\n",
              "      <td>23.4500</td>\n",
              "      <td>NaN</td>\n",
              "      <td>S</td>\n",
              "      <td>1</td>\n",
              "      <td>Miss</td>\n",
              "    </tr>\n",
              "    <tr>\n",
              "      <th>889</th>\n",
              "      <td>890</td>\n",
              "      <td>1</td>\n",
              "      <td>1</td>\n",
              "      <td>Behr, Mr. Karl Howell</td>\n",
              "      <td>male</td>\n",
              "      <td>26.000000</td>\n",
              "      <td>0</td>\n",
              "      <td>0</td>\n",
              "      <td>111369</td>\n",
              "      <td>30.0000</td>\n",
              "      <td>C148</td>\n",
              "      <td>C</td>\n",
              "      <td>1</td>\n",
              "      <td>Mr</td>\n",
              "    </tr>\n",
              "    <tr>\n",
              "      <th>890</th>\n",
              "      <td>891</td>\n",
              "      <td>0</td>\n",
              "      <td>3</td>\n",
              "      <td>Dooley, Mr. Patrick</td>\n",
              "      <td>male</td>\n",
              "      <td>32.000000</td>\n",
              "      <td>0</td>\n",
              "      <td>0</td>\n",
              "      <td>370376</td>\n",
              "      <td>7.7500</td>\n",
              "      <td>NaN</td>\n",
              "      <td>Q</td>\n",
              "      <td>1</td>\n",
              "      <td>Mr</td>\n",
              "    </tr>\n",
              "  </tbody>\n",
              "</table>\n",
              "<p>891 rows × 14 columns</p>\n",
              "</div>"
            ],
            "text/plain": [
              "     PassengerId  Survived  Pclass  ... Embarked AgeBand  Title\n",
              "0              1         0       3  ...        S       1     Mr\n",
              "1              2         1       1  ...        C       2    Mrs\n",
              "2              3         1       3  ...        S       1   Miss\n",
              "3              4         1       1  ...        S       2    Mrs\n",
              "4              5         0       3  ...        S       2     Mr\n",
              "..           ...       ...     ...  ...      ...     ...    ...\n",
              "886          887         0       2  ...        S       1    Rev\n",
              "887          888         1       1  ...        S       1   Miss\n",
              "888          889         0       3  ...        S       1   Miss\n",
              "889          890         1       1  ...        C       1     Mr\n",
              "890          891         0       3  ...        Q       1     Mr\n",
              "\n",
              "[891 rows x 14 columns]"
            ]
          },
          "metadata": {
            "tags": []
          },
          "execution_count": 24
        }
      ]
    },
    {
      "cell_type": "code",
      "metadata": {
        "id": "pE-pjNDzcP1m"
      },
      "source": [
        "# Replace less common titles with more universal values\n",
        "train['Title'] = train['Title'].replace(['Don', 'Capt', 'Col', 'Major', 'Sir', 'Jonkheer', 'Rev', 'Dr'], 'Honored')\n",
        "train['Title'] = train['Title'].replace(['Lady', 'Dona', 'Mme', 'Countess'], 'Mrs')\n",
        "train['Title'] = train['Title'].replace(['Mlle','Ms'], 'Miss')\n",
        "\n",
        "\n"
      ],
      "execution_count": null,
      "outputs": []
    },
    {
      "cell_type": "code",
      "metadata": {
        "id": "2ffJOV3rcP1r"
      },
      "source": [
        "# Imputing null values of Fare with the mean of Fare\n",
        "train['Fare'] = train['Fare'].fillna(train.mean(axis=0,skipna=True)['Fare'])"
      ],
      "execution_count": null,
      "outputs": []
    },
    {
      "cell_type": "code",
      "metadata": {
        "id": "JUjrNnXsoY2l"
      },
      "source": [
        "# Imputing null values for Embarked with the mode (categorical)\n",
        "train['Embarked'] = train['Embarked'].fillna('S')"
      ],
      "execution_count": null,
      "outputs": []
    },
    {
      "cell_type": "code",
      "metadata": {
        "id": "tIPJiCPDcP1w",
        "colab": {
          "base_uri": "https://localhost:8080/",
          "height": 496
        },
        "outputId": "6eeadfc1-a064-48eb-bf98-ede96d76fa04"
      },
      "source": [
        "# Create categorical, numeric variables for Sex, TitleCode, and EmbarkedCode\n",
        "train['Sex'] = LabelEncoder().fit_transform(train['Sex'])\n",
        "train['TitleCode'] = LabelEncoder().fit_transform(train['Title'])\n",
        "train['EmbarkedCode'] = LabelEncoder().fit_transform(train['Embarked'])\n",
        "\n",
        "train.head()"
      ],
      "execution_count": null,
      "outputs": [
        {
          "output_type": "execute_result",
          "data": {
            "text/html": [
              "<div>\n",
              "<style scoped>\n",
              "    .dataframe tbody tr th:only-of-type {\n",
              "        vertical-align: middle;\n",
              "    }\n",
              "\n",
              "    .dataframe tbody tr th {\n",
              "        vertical-align: top;\n",
              "    }\n",
              "\n",
              "    .dataframe thead th {\n",
              "        text-align: right;\n",
              "    }\n",
              "</style>\n",
              "<table border=\"1\" class=\"dataframe\">\n",
              "  <thead>\n",
              "    <tr style=\"text-align: right;\">\n",
              "      <th></th>\n",
              "      <th>PassengerId</th>\n",
              "      <th>Survived</th>\n",
              "      <th>Pclass</th>\n",
              "      <th>Name</th>\n",
              "      <th>Sex</th>\n",
              "      <th>Age</th>\n",
              "      <th>SibSp</th>\n",
              "      <th>Parch</th>\n",
              "      <th>Ticket</th>\n",
              "      <th>Fare</th>\n",
              "      <th>Cabin</th>\n",
              "      <th>Embarked</th>\n",
              "      <th>AgeBand</th>\n",
              "      <th>Title</th>\n",
              "      <th>TitleCode</th>\n",
              "      <th>EmbarkedCode</th>\n",
              "    </tr>\n",
              "  </thead>\n",
              "  <tbody>\n",
              "    <tr>\n",
              "      <th>0</th>\n",
              "      <td>1</td>\n",
              "      <td>0</td>\n",
              "      <td>3</td>\n",
              "      <td>Braund, Mr. Owen Harris</td>\n",
              "      <td>1</td>\n",
              "      <td>22.0</td>\n",
              "      <td>1</td>\n",
              "      <td>0</td>\n",
              "      <td>A/5 21171</td>\n",
              "      <td>7.2500</td>\n",
              "      <td>NaN</td>\n",
              "      <td>S</td>\n",
              "      <td>1</td>\n",
              "      <td>Mr</td>\n",
              "      <td>3</td>\n",
              "      <td>2</td>\n",
              "    </tr>\n",
              "    <tr>\n",
              "      <th>1</th>\n",
              "      <td>2</td>\n",
              "      <td>1</td>\n",
              "      <td>1</td>\n",
              "      <td>Cumings, Mrs. John Bradley (Florence Briggs Th...</td>\n",
              "      <td>0</td>\n",
              "      <td>38.0</td>\n",
              "      <td>1</td>\n",
              "      <td>0</td>\n",
              "      <td>PC 17599</td>\n",
              "      <td>71.2833</td>\n",
              "      <td>C85</td>\n",
              "      <td>C</td>\n",
              "      <td>2</td>\n",
              "      <td>Mrs</td>\n",
              "      <td>4</td>\n",
              "      <td>0</td>\n",
              "    </tr>\n",
              "    <tr>\n",
              "      <th>2</th>\n",
              "      <td>3</td>\n",
              "      <td>1</td>\n",
              "      <td>3</td>\n",
              "      <td>Heikkinen, Miss. Laina</td>\n",
              "      <td>0</td>\n",
              "      <td>26.0</td>\n",
              "      <td>0</td>\n",
              "      <td>0</td>\n",
              "      <td>STON/O2. 3101282</td>\n",
              "      <td>7.9250</td>\n",
              "      <td>NaN</td>\n",
              "      <td>S</td>\n",
              "      <td>1</td>\n",
              "      <td>Miss</td>\n",
              "      <td>2</td>\n",
              "      <td>2</td>\n",
              "    </tr>\n",
              "    <tr>\n",
              "      <th>3</th>\n",
              "      <td>4</td>\n",
              "      <td>1</td>\n",
              "      <td>1</td>\n",
              "      <td>Futrelle, Mrs. Jacques Heath (Lily May Peel)</td>\n",
              "      <td>0</td>\n",
              "      <td>35.0</td>\n",
              "      <td>1</td>\n",
              "      <td>0</td>\n",
              "      <td>113803</td>\n",
              "      <td>53.1000</td>\n",
              "      <td>C123</td>\n",
              "      <td>S</td>\n",
              "      <td>2</td>\n",
              "      <td>Mrs</td>\n",
              "      <td>4</td>\n",
              "      <td>2</td>\n",
              "    </tr>\n",
              "    <tr>\n",
              "      <th>4</th>\n",
              "      <td>5</td>\n",
              "      <td>0</td>\n",
              "      <td>3</td>\n",
              "      <td>Allen, Mr. William Henry</td>\n",
              "      <td>1</td>\n",
              "      <td>35.0</td>\n",
              "      <td>0</td>\n",
              "      <td>0</td>\n",
              "      <td>373450</td>\n",
              "      <td>8.0500</td>\n",
              "      <td>NaN</td>\n",
              "      <td>S</td>\n",
              "      <td>2</td>\n",
              "      <td>Mr</td>\n",
              "      <td>3</td>\n",
              "      <td>2</td>\n",
              "    </tr>\n",
              "  </tbody>\n",
              "</table>\n",
              "</div>"
            ],
            "text/plain": [
              "   PassengerId  Survived  Pclass  ... Title  TitleCode  EmbarkedCode\n",
              "0            1         0       3  ...    Mr          3             2\n",
              "1            2         1       1  ...   Mrs          4             0\n",
              "2            3         1       3  ...  Miss          2             2\n",
              "3            4         1       1  ...   Mrs          4             2\n",
              "4            5         0       3  ...    Mr          3             2\n",
              "\n",
              "[5 rows x 16 columns]"
            ]
          },
          "metadata": {
            "tags": []
          },
          "execution_count": 37
        }
      ]
    },
    {
      "cell_type": "markdown",
      "metadata": {
        "id": "umsvX1RorRea"
      },
      "source": [
        "Preprocessing complete? Let's build some models:"
      ]
    },
    {
      "cell_type": "code",
      "metadata": {
        "id": "zswO2Dm6cP1z",
        "colab": {
          "base_uri": "https://localhost:8080/",
          "height": 204
        },
        "outputId": "e4208edf-f1b7-4abd-c8db-f6afd0eb0411"
      },
      "source": [
        "# Preparing our X and y subsets for modeling\n",
        "X = train[['Sex','Age','SibSp','Parch','Fare','TitleCode','EmbarkedCode','AgeBand']].copy()\n",
        "Y = train[['Survived']].astype(int)\n",
        "X.head()\n"
      ],
      "execution_count": null,
      "outputs": [
        {
          "output_type": "execute_result",
          "data": {
            "text/html": [
              "<div>\n",
              "<style scoped>\n",
              "    .dataframe tbody tr th:only-of-type {\n",
              "        vertical-align: middle;\n",
              "    }\n",
              "\n",
              "    .dataframe tbody tr th {\n",
              "        vertical-align: top;\n",
              "    }\n",
              "\n",
              "    .dataframe thead th {\n",
              "        text-align: right;\n",
              "    }\n",
              "</style>\n",
              "<table border=\"1\" class=\"dataframe\">\n",
              "  <thead>\n",
              "    <tr style=\"text-align: right;\">\n",
              "      <th></th>\n",
              "      <th>Sex</th>\n",
              "      <th>Age</th>\n",
              "      <th>SibSp</th>\n",
              "      <th>Parch</th>\n",
              "      <th>Fare</th>\n",
              "      <th>TitleCode</th>\n",
              "      <th>EmbarkedCode</th>\n",
              "      <th>AgeBand</th>\n",
              "    </tr>\n",
              "  </thead>\n",
              "  <tbody>\n",
              "    <tr>\n",
              "      <th>0</th>\n",
              "      <td>1</td>\n",
              "      <td>22.0</td>\n",
              "      <td>1</td>\n",
              "      <td>0</td>\n",
              "      <td>7.2500</td>\n",
              "      <td>3</td>\n",
              "      <td>2</td>\n",
              "      <td>1</td>\n",
              "    </tr>\n",
              "    <tr>\n",
              "      <th>1</th>\n",
              "      <td>0</td>\n",
              "      <td>38.0</td>\n",
              "      <td>1</td>\n",
              "      <td>0</td>\n",
              "      <td>71.2833</td>\n",
              "      <td>4</td>\n",
              "      <td>0</td>\n",
              "      <td>2</td>\n",
              "    </tr>\n",
              "    <tr>\n",
              "      <th>2</th>\n",
              "      <td>0</td>\n",
              "      <td>26.0</td>\n",
              "      <td>0</td>\n",
              "      <td>0</td>\n",
              "      <td>7.9250</td>\n",
              "      <td>2</td>\n",
              "      <td>2</td>\n",
              "      <td>1</td>\n",
              "    </tr>\n",
              "    <tr>\n",
              "      <th>3</th>\n",
              "      <td>0</td>\n",
              "      <td>35.0</td>\n",
              "      <td>1</td>\n",
              "      <td>0</td>\n",
              "      <td>53.1000</td>\n",
              "      <td>4</td>\n",
              "      <td>2</td>\n",
              "      <td>2</td>\n",
              "    </tr>\n",
              "    <tr>\n",
              "      <th>4</th>\n",
              "      <td>1</td>\n",
              "      <td>35.0</td>\n",
              "      <td>0</td>\n",
              "      <td>0</td>\n",
              "      <td>8.0500</td>\n",
              "      <td>3</td>\n",
              "      <td>2</td>\n",
              "      <td>2</td>\n",
              "    </tr>\n",
              "  </tbody>\n",
              "</table>\n",
              "</div>"
            ],
            "text/plain": [
              "   Sex   Age  SibSp  Parch     Fare  TitleCode  EmbarkedCode  AgeBand\n",
              "0    1  22.0      1      0   7.2500          3             2        1\n",
              "1    0  38.0      1      0  71.2833          4             0        2\n",
              "2    0  26.0      0      0   7.9250          2             2        1\n",
              "3    0  35.0      1      0  53.1000          4             2        2\n",
              "4    1  35.0      0      0   8.0500          3             2        2"
            ]
          },
          "metadata": {
            "tags": []
          },
          "execution_count": 41
        }
      ]
    },
    {
      "cell_type": "code",
      "metadata": {
        "id": "-DOMTB4ErtGO",
        "colab": {
          "base_uri": "https://localhost:8080/",
          "height": 204
        },
        "outputId": "55f9e42c-4a27-4c6e-aa67-ab8dcb050158"
      },
      "source": [
        "# Target column\n",
        "Y.head()"
      ],
      "execution_count": null,
      "outputs": [
        {
          "output_type": "execute_result",
          "data": {
            "text/html": [
              "<div>\n",
              "<style scoped>\n",
              "    .dataframe tbody tr th:only-of-type {\n",
              "        vertical-align: middle;\n",
              "    }\n",
              "\n",
              "    .dataframe tbody tr th {\n",
              "        vertical-align: top;\n",
              "    }\n",
              "\n",
              "    .dataframe thead th {\n",
              "        text-align: right;\n",
              "    }\n",
              "</style>\n",
              "<table border=\"1\" class=\"dataframe\">\n",
              "  <thead>\n",
              "    <tr style=\"text-align: right;\">\n",
              "      <th></th>\n",
              "      <th>Survived</th>\n",
              "    </tr>\n",
              "  </thead>\n",
              "  <tbody>\n",
              "    <tr>\n",
              "      <th>0</th>\n",
              "      <td>0</td>\n",
              "    </tr>\n",
              "    <tr>\n",
              "      <th>1</th>\n",
              "      <td>1</td>\n",
              "    </tr>\n",
              "    <tr>\n",
              "      <th>2</th>\n",
              "      <td>1</td>\n",
              "    </tr>\n",
              "    <tr>\n",
              "      <th>3</th>\n",
              "      <td>1</td>\n",
              "    </tr>\n",
              "    <tr>\n",
              "      <th>4</th>\n",
              "      <td>0</td>\n",
              "    </tr>\n",
              "  </tbody>\n",
              "</table>\n",
              "</div>"
            ],
            "text/plain": [
              "   Survived\n",
              "0         0\n",
              "1         1\n",
              "2         1\n",
              "3         1\n",
              "4         0"
            ]
          },
          "metadata": {
            "tags": []
          },
          "execution_count": 40
        }
      ]
    },
    {
      "cell_type": "code",
      "metadata": {
        "id": "1wP325DYqN3I"
      },
      "source": [
        "# Create training and testing data\n",
        "X_train, X_test, Y_train, Y_test = train_test_split(X,Y,test_size=0.3)"
      ],
      "execution_count": null,
      "outputs": []
    },
    {
      "cell_type": "code",
      "metadata": {
        "id": "mQp5Ek4hcP13",
        "colab": {
          "base_uri": "https://localhost:8080/",
          "height": 224
        },
        "outputId": "a2c8c467-128c-4d28-8713-04401f294628"
      },
      "source": [
        "# Begin building a classifier\n",
        "model = xgb.XGBClassifier(max_depth=9, n_estimators= 320, learning_rate=0.3)\n",
        "model.fit(X_train,Y_train)\n"
      ],
      "execution_count": null,
      "outputs": [
        {
          "output_type": "stream",
          "text": [
            "/usr/local/lib/python3.6/dist-packages/sklearn/preprocessing/_label.py:235: DataConversionWarning: A column-vector y was passed when a 1d array was expected. Please change the shape of y to (n_samples, ), for example using ravel().\n",
            "  y = column_or_1d(y, warn=True)\n",
            "/usr/local/lib/python3.6/dist-packages/sklearn/preprocessing/_label.py:268: DataConversionWarning: A column-vector y was passed when a 1d array was expected. Please change the shape of y to (n_samples, ), for example using ravel().\n",
            "  y = column_or_1d(y, warn=True)\n"
          ],
          "name": "stderr"
        },
        {
          "output_type": "execute_result",
          "data": {
            "text/plain": [
              "XGBClassifier(base_score=0.5, booster='gbtree', colsample_bylevel=1,\n",
              "              colsample_bynode=1, colsample_bytree=1, gamma=0,\n",
              "              learning_rate=0.3, max_delta_step=0, max_depth=9,\n",
              "              min_child_weight=1, missing=None, n_estimators=320, n_jobs=1,\n",
              "              nthread=None, objective='binary:logistic', random_state=0,\n",
              "              reg_alpha=0, reg_lambda=1, scale_pos_weight=1, seed=None,\n",
              "              silent=None, subsample=1, verbosity=1)"
            ]
          },
          "metadata": {
            "tags": []
          },
          "execution_count": 45
        }
      ]
    },
    {
      "cell_type": "code",
      "metadata": {
        "id": "90NH6Q_Mq1Iz",
        "colab": {
          "base_uri": "https://localhost:8080/",
          "height": 34
        },
        "outputId": "c4f172a3-b40f-46fd-d260-5924cb3d3dcb"
      },
      "source": [
        "# How's the performance\n",
        "print(model.score(X_test,Y_test))"
      ],
      "execution_count": null,
      "outputs": [
        {
          "output_type": "stream",
          "text": [
            "0.7649253731343284\n"
          ],
          "name": "stdout"
        }
      ]
    },
    {
      "cell_type": "code",
      "metadata": {
        "id": "a0cpB5K8cP19",
        "colab": {
          "base_uri": "https://localhost:8080/",
          "height": 224
        },
        "outputId": "a966fa1a-7a71-4801-8324-c72286226ae2"
      },
      "source": [
        "# What about different hyperparameters?\n",
        "tuned_model = xgb.XGBClassifier(max_depth=3, n_estimators= 100, learning_rate=0.3)\n",
        "tuned_model.fit(X_train,Y_train)"
      ],
      "execution_count": null,
      "outputs": [
        {
          "output_type": "stream",
          "text": [
            "/usr/local/lib/python3.6/dist-packages/sklearn/preprocessing/_label.py:235: DataConversionWarning: A column-vector y was passed when a 1d array was expected. Please change the shape of y to (n_samples, ), for example using ravel().\n",
            "  y = column_or_1d(y, warn=True)\n",
            "/usr/local/lib/python3.6/dist-packages/sklearn/preprocessing/_label.py:268: DataConversionWarning: A column-vector y was passed when a 1d array was expected. Please change the shape of y to (n_samples, ), for example using ravel().\n",
            "  y = column_or_1d(y, warn=True)\n"
          ],
          "name": "stderr"
        },
        {
          "output_type": "execute_result",
          "data": {
            "text/plain": [
              "XGBClassifier(base_score=0.5, booster='gbtree', colsample_bylevel=1,\n",
              "              colsample_bynode=1, colsample_bytree=1, gamma=0,\n",
              "              learning_rate=0.3, max_delta_step=0, max_depth=3,\n",
              "              min_child_weight=1, missing=None, n_estimators=100, n_jobs=1,\n",
              "              nthread=None, objective='binary:logistic', random_state=0,\n",
              "              reg_alpha=0, reg_lambda=1, scale_pos_weight=1, seed=None,\n",
              "              silent=None, subsample=1, verbosity=1)"
            ]
          },
          "metadata": {
            "tags": []
          },
          "execution_count": 52
        }
      ]
    },
    {
      "cell_type": "code",
      "metadata": {
        "id": "VqRZAEIysWEj",
        "colab": {
          "base_uri": "https://localhost:8080/",
          "height": 34
        },
        "outputId": "9e24152c-0b60-4b77-dfd0-3c4ddcad7f81"
      },
      "source": [
        "# Model performance\n",
        "print(tuned_model.score(X_test,Y_test))"
      ],
      "execution_count": null,
      "outputs": [
        {
          "output_type": "stream",
          "text": [
            "0.7985074626865671\n"
          ],
          "name": "stdout"
        }
      ]
    },
    {
      "cell_type": "code",
      "metadata": {
        "id": "sQ0LTZgzsc5K"
      },
      "source": [
        "# Apply model to data\n",
        "y_pred = tuned_model.predict(X_test)"
      ],
      "execution_count": null,
      "outputs": []
    },
    {
      "cell_type": "code",
      "metadata": {
        "id": "F4W09gFHw2_V",
        "colab": {
          "base_uri": "https://localhost:8080/",
          "height": 238
        },
        "outputId": "765a2829-c3fb-43d1-bbcd-a7d570c9efb1"
      },
      "source": [
        "# View the data\n",
        "y_pred"
      ],
      "execution_count": null,
      "outputs": [
        {
          "output_type": "execute_result",
          "data": {
            "text/plain": [
              "array([0, 1, 1, 0, 0, 0, 1, 0, 1, 0, 0, 1, 1, 1, 0, 0, 1, 0, 0, 0, 0, 0,\n",
              "       0, 1, 0, 1, 1, 0, 1, 0, 0, 1, 0, 0, 1, 0, 0, 1, 1, 1, 1, 0, 0, 0,\n",
              "       1, 1, 0, 1, 1, 0, 0, 0, 1, 1, 1, 0, 0, 0, 0, 0, 1, 0, 1, 0, 1, 0,\n",
              "       0, 1, 1, 0, 1, 1, 1, 1, 0, 0, 0, 0, 0, 1, 0, 1, 0, 1, 0, 1, 1, 0,\n",
              "       0, 1, 1, 0, 1, 0, 1, 0, 1, 0, 1, 0, 0, 0, 0, 1, 1, 1, 0, 0, 0, 0,\n",
              "       0, 1, 0, 0, 0, 1, 0, 0, 0, 1, 1, 1, 0, 0, 0, 0, 0, 1, 0, 0, 0, 0,\n",
              "       0, 1, 0, 0, 1, 1, 0, 1, 0, 1, 0, 0, 1, 0, 0, 1, 0, 0, 0, 0, 1, 1,\n",
              "       1, 0, 0, 1, 0, 0, 0, 0, 0, 1, 0, 0, 0, 0, 0, 0, 0, 0, 0, 0, 0, 0,\n",
              "       1, 1, 1, 0, 0, 0, 0, 1, 0, 1, 0, 0, 0, 0, 1, 1, 1, 0, 0, 1, 0, 0,\n",
              "       1, 1, 0, 1, 0, 0, 1, 0, 0, 0, 1, 0, 1, 1, 1, 1, 0, 0, 0, 0, 1, 0,\n",
              "       0, 1, 0, 0, 1, 0, 0, 1, 0, 0, 0, 1, 0, 0, 0, 0, 1, 1, 0, 0, 0, 0,\n",
              "       1, 0, 0, 1, 0, 0, 1, 0, 0, 0, 0, 1, 0, 1, 0, 0, 0, 0, 0, 1, 0, 1,\n",
              "       0, 1, 0, 0])"
            ]
          },
          "metadata": {
            "tags": []
          },
          "execution_count": 56
        }
      ]
    }
  ]
}