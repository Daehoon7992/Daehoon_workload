{
  "nbformat": 4,
  "nbformat_minor": 0,
  "metadata": {
    "accelerator": "GPU",
    "colab": {
      "name": "NY_Taxi_Fare.ipynb",
      "provenance": [],
      "collapsed_sections": []
    },
    "kernelspec": {
      "name": "python3",
      "display_name": "Python 3.7.4 64-bit",
      "metadata": {
        "interpreter": {
          "hash": "4cd7ab41f5fca4b9b44701077e38c5ffd31fe66a6cab21e0214b68d958d0e462"
        }
      }
    },
    "language_info": {
      "codemirror_mode": {
        "name": "ipython",
        "version": 3
      },
      "file_extension": ".py",
      "mimetype": "text/x-python",
      "name": "python",
      "nbconvert_exporter": "python",
      "pygments_lexer": "ipython3",
      "version": "3.7.4-final"
    }
  },
  "cells": [
    {
      "cell_type": "code",
      "metadata": {
        "colab": {
          "base_uri": "https://localhost:8080/"
        },
        "id": "9iFejpgcWlyQ",
        "outputId": "b07120e5-5dc8-4128-be58-61bb9ca67c84"
      },
      "source": [
        "from google.colab import drive\n",
        "drive.mount('/gdrive')"
      ],
      "execution_count": 1,
      "outputs": [
        {
          "output_type": "stream",
          "text": [
            "Mounted at /gdrive\n"
          ],
          "name": "stdout"
        }
      ]
    },
    {
      "cell_type": "code",
      "metadata": {
        "id": "BIZTOXJEuMd5"
      },
      "source": [
        "import pandas as pd\n",
        "import numpy as np \n",
        "import datetime\n",
        "import pytz\n",
        "import time\n",
        "import matplotlib.pyplot as plt\n",
        "import xgboost as xgb\n",
        "from sklearn.metrics import mean_squared_error\n",
        "from sklearn.pipeline import Pipeline\n",
        "from sklearn.linear_model import LinearRegression\n",
        "from sklearn.preprocessing import StandardScaler\n",
        "from sklearn.model_selection import train_test_split\n",
        "from sklearn.ensemble import RandomForestRegressor"
      ],
      "execution_count": 2,
      "outputs": []
    },
    {
      "cell_type": "markdown",
      "metadata": {
        "id": "Wsx3RNRiiJ7b"
      },
      "source": [
        "## Import Data"
      ]
    },
    {
      "cell_type": "code",
      "metadata": {
        "id": "qz_cHyT8uMd9"
      },
      "source": [
        "train = pd.read_csv('/gdrive/My Drive/Colab Notebooks/DS340W_Project/train.csv', nrows = 2000000)\n",
        "test = pd.read_csv('/gdrive/My Drive/Colab Notebooks/DS340W_Project/test.csv')"
      ],
      "execution_count": 3,
      "outputs": []
    },
    {
      "cell_type": "code",
      "metadata": {
        "id": "JxlIvj-cktn2",
        "colab": {
          "base_uri": "https://localhost:8080/",
          "height": 514
        },
        "outputId": "63648ba8-1000-4f83-a1ad-b5ba4c482e20"
      },
      "source": [
        "train.head(15)"
      ],
      "execution_count": 4,
      "outputs": [
        {
          "output_type": "execute_result",
          "data": {
            "text/html": [
              "<div>\n",
              "<style scoped>\n",
              "    .dataframe tbody tr th:only-of-type {\n",
              "        vertical-align: middle;\n",
              "    }\n",
              "\n",
              "    .dataframe tbody tr th {\n",
              "        vertical-align: top;\n",
              "    }\n",
              "\n",
              "    .dataframe thead th {\n",
              "        text-align: right;\n",
              "    }\n",
              "</style>\n",
              "<table border=\"1\" class=\"dataframe\">\n",
              "  <thead>\n",
              "    <tr style=\"text-align: right;\">\n",
              "      <th></th>\n",
              "      <th>key</th>\n",
              "      <th>fare_amount</th>\n",
              "      <th>pickup_datetime</th>\n",
              "      <th>pickup_longitude</th>\n",
              "      <th>pickup_latitude</th>\n",
              "      <th>dropoff_longitude</th>\n",
              "      <th>dropoff_latitude</th>\n",
              "      <th>passenger_count</th>\n",
              "    </tr>\n",
              "  </thead>\n",
              "  <tbody>\n",
              "    <tr>\n",
              "      <th>0</th>\n",
              "      <td>2009-06-15 17:26:21.0000001</td>\n",
              "      <td>4.5</td>\n",
              "      <td>2009-06-15 17:26:21 UTC</td>\n",
              "      <td>-73.844311</td>\n",
              "      <td>40.721319</td>\n",
              "      <td>-73.841610</td>\n",
              "      <td>40.712278</td>\n",
              "      <td>1</td>\n",
              "    </tr>\n",
              "    <tr>\n",
              "      <th>1</th>\n",
              "      <td>2010-01-05 16:52:16.0000002</td>\n",
              "      <td>16.9</td>\n",
              "      <td>2010-01-05 16:52:16 UTC</td>\n",
              "      <td>-74.016048</td>\n",
              "      <td>40.711303</td>\n",
              "      <td>-73.979268</td>\n",
              "      <td>40.782004</td>\n",
              "      <td>1</td>\n",
              "    </tr>\n",
              "    <tr>\n",
              "      <th>2</th>\n",
              "      <td>2011-08-18 00:35:00.00000049</td>\n",
              "      <td>5.7</td>\n",
              "      <td>2011-08-18 00:35:00 UTC</td>\n",
              "      <td>-73.982738</td>\n",
              "      <td>40.761270</td>\n",
              "      <td>-73.991242</td>\n",
              "      <td>40.750562</td>\n",
              "      <td>2</td>\n",
              "    </tr>\n",
              "    <tr>\n",
              "      <th>3</th>\n",
              "      <td>2012-04-21 04:30:42.0000001</td>\n",
              "      <td>7.7</td>\n",
              "      <td>2012-04-21 04:30:42 UTC</td>\n",
              "      <td>-73.987130</td>\n",
              "      <td>40.733143</td>\n",
              "      <td>-73.991567</td>\n",
              "      <td>40.758092</td>\n",
              "      <td>1</td>\n",
              "    </tr>\n",
              "    <tr>\n",
              "      <th>4</th>\n",
              "      <td>2010-03-09 07:51:00.000000135</td>\n",
              "      <td>5.3</td>\n",
              "      <td>2010-03-09 07:51:00 UTC</td>\n",
              "      <td>-73.968095</td>\n",
              "      <td>40.768008</td>\n",
              "      <td>-73.956655</td>\n",
              "      <td>40.783762</td>\n",
              "      <td>1</td>\n",
              "    </tr>\n",
              "    <tr>\n",
              "      <th>5</th>\n",
              "      <td>2011-01-06 09:50:45.0000002</td>\n",
              "      <td>12.1</td>\n",
              "      <td>2011-01-06 09:50:45 UTC</td>\n",
              "      <td>-74.000964</td>\n",
              "      <td>40.731630</td>\n",
              "      <td>-73.972892</td>\n",
              "      <td>40.758233</td>\n",
              "      <td>1</td>\n",
              "    </tr>\n",
              "    <tr>\n",
              "      <th>6</th>\n",
              "      <td>2012-11-20 20:35:00.0000001</td>\n",
              "      <td>7.5</td>\n",
              "      <td>2012-11-20 20:35:00 UTC</td>\n",
              "      <td>-73.980002</td>\n",
              "      <td>40.751662</td>\n",
              "      <td>-73.973802</td>\n",
              "      <td>40.764842</td>\n",
              "      <td>1</td>\n",
              "    </tr>\n",
              "    <tr>\n",
              "      <th>7</th>\n",
              "      <td>2012-01-04 17:22:00.00000081</td>\n",
              "      <td>16.5</td>\n",
              "      <td>2012-01-04 17:22:00 UTC</td>\n",
              "      <td>-73.951300</td>\n",
              "      <td>40.774138</td>\n",
              "      <td>-73.990095</td>\n",
              "      <td>40.751048</td>\n",
              "      <td>1</td>\n",
              "    </tr>\n",
              "    <tr>\n",
              "      <th>8</th>\n",
              "      <td>2012-12-03 13:10:00.000000125</td>\n",
              "      <td>9.0</td>\n",
              "      <td>2012-12-03 13:10:00 UTC</td>\n",
              "      <td>-74.006462</td>\n",
              "      <td>40.726713</td>\n",
              "      <td>-73.993078</td>\n",
              "      <td>40.731628</td>\n",
              "      <td>1</td>\n",
              "    </tr>\n",
              "    <tr>\n",
              "      <th>9</th>\n",
              "      <td>2009-09-02 01:11:00.00000083</td>\n",
              "      <td>8.9</td>\n",
              "      <td>2009-09-02 01:11:00 UTC</td>\n",
              "      <td>-73.980658</td>\n",
              "      <td>40.733873</td>\n",
              "      <td>-73.991540</td>\n",
              "      <td>40.758138</td>\n",
              "      <td>2</td>\n",
              "    </tr>\n",
              "    <tr>\n",
              "      <th>10</th>\n",
              "      <td>2012-04-08 07:30:50.0000002</td>\n",
              "      <td>5.3</td>\n",
              "      <td>2012-04-08 07:30:50 UTC</td>\n",
              "      <td>-73.996335</td>\n",
              "      <td>40.737142</td>\n",
              "      <td>-73.980721</td>\n",
              "      <td>40.733559</td>\n",
              "      <td>1</td>\n",
              "    </tr>\n",
              "    <tr>\n",
              "      <th>11</th>\n",
              "      <td>2012-12-24 11:24:00.00000098</td>\n",
              "      <td>5.5</td>\n",
              "      <td>2012-12-24 11:24:00 UTC</td>\n",
              "      <td>0.000000</td>\n",
              "      <td>0.000000</td>\n",
              "      <td>0.000000</td>\n",
              "      <td>0.000000</td>\n",
              "      <td>3</td>\n",
              "    </tr>\n",
              "    <tr>\n",
              "      <th>12</th>\n",
              "      <td>2009-11-06 01:04:03.0000002</td>\n",
              "      <td>4.1</td>\n",
              "      <td>2009-11-06 01:04:03 UTC</td>\n",
              "      <td>-73.991601</td>\n",
              "      <td>40.744712</td>\n",
              "      <td>-73.983081</td>\n",
              "      <td>40.744682</td>\n",
              "      <td>2</td>\n",
              "    </tr>\n",
              "    <tr>\n",
              "      <th>13</th>\n",
              "      <td>2013-07-02 19:54:00.000000232</td>\n",
              "      <td>7.0</td>\n",
              "      <td>2013-07-02 19:54:00 UTC</td>\n",
              "      <td>-74.005360</td>\n",
              "      <td>40.728867</td>\n",
              "      <td>-74.008913</td>\n",
              "      <td>40.710907</td>\n",
              "      <td>1</td>\n",
              "    </tr>\n",
              "    <tr>\n",
              "      <th>14</th>\n",
              "      <td>2011-04-05 17:11:05.0000001</td>\n",
              "      <td>7.7</td>\n",
              "      <td>2011-04-05 17:11:05 UTC</td>\n",
              "      <td>-74.001821</td>\n",
              "      <td>40.737547</td>\n",
              "      <td>-73.998060</td>\n",
              "      <td>40.722788</td>\n",
              "      <td>2</td>\n",
              "    </tr>\n",
              "  </tbody>\n",
              "</table>\n",
              "</div>"
            ],
            "text/plain": [
              "                              key  ...  passenger_count\n",
              "0     2009-06-15 17:26:21.0000001  ...                1\n",
              "1     2010-01-05 16:52:16.0000002  ...                1\n",
              "2    2011-08-18 00:35:00.00000049  ...                2\n",
              "3     2012-04-21 04:30:42.0000001  ...                1\n",
              "4   2010-03-09 07:51:00.000000135  ...                1\n",
              "5     2011-01-06 09:50:45.0000002  ...                1\n",
              "6     2012-11-20 20:35:00.0000001  ...                1\n",
              "7    2012-01-04 17:22:00.00000081  ...                1\n",
              "8   2012-12-03 13:10:00.000000125  ...                1\n",
              "9    2009-09-02 01:11:00.00000083  ...                2\n",
              "10    2012-04-08 07:30:50.0000002  ...                1\n",
              "11   2012-12-24 11:24:00.00000098  ...                3\n",
              "12    2009-11-06 01:04:03.0000002  ...                2\n",
              "13  2013-07-02 19:54:00.000000232  ...                1\n",
              "14    2011-04-05 17:11:05.0000001  ...                2\n",
              "\n",
              "[15 rows x 8 columns]"
            ]
          },
          "metadata": {
            "tags": []
          },
          "execution_count": 4
        }
      ]
    },
    {
      "cell_type": "code",
      "metadata": {
        "id": "4hGFI7eHktn4",
        "colab": {
          "base_uri": "https://localhost:8080/"
        },
        "outputId": "30595ce8-b907-4575-c079-8e40e597eb17"
      },
      "source": [
        "print(f'Number of rows in Train: {len(train)}')\n",
        "print(f'Number of rows in Test: {len(test)}')"
      ],
      "execution_count": 5,
      "outputs": [
        {
          "output_type": "stream",
          "text": [
            "Number of rows in Train: 2000000\n",
            "Number of rows in Test: 9914\n"
          ],
          "name": "stdout"
        }
      ]
    },
    {
      "cell_type": "code",
      "metadata": {
        "id": "ttVEQIetktn4",
        "colab": {
          "base_uri": "https://localhost:8080/"
        },
        "outputId": "07545c0f-09c8-4e57-897e-d6650aebb7c7"
      },
      "source": [
        "print(train.isnull().sum())"
      ],
      "execution_count": 6,
      "outputs": [
        {
          "output_type": "stream",
          "text": [
            "key                   0\n",
            "fare_amount           0\n",
            "pickup_datetime       0\n",
            "pickup_longitude      0\n",
            "pickup_latitude       0\n",
            "dropoff_longitude    14\n",
            "dropoff_latitude     14\n",
            "passenger_count       0\n",
            "dtype: int64\n"
          ],
          "name": "stdout"
        }
      ]
    },
    {
      "cell_type": "code",
      "metadata": {
        "id": "spKyQlzAktn4",
        "colab": {
          "base_uri": "https://localhost:8080/"
        },
        "outputId": "fa67c51e-6fdf-4c98-bf79-1e74c240c778"
      },
      "source": [
        "duplicates = train.duplicated().sum()\n",
        "duplicates"
      ],
      "execution_count": 7,
      "outputs": [
        {
          "output_type": "execute_result",
          "data": {
            "text/plain": [
              "0"
            ]
          },
          "metadata": {
            "tags": []
          },
          "execution_count": 7
        }
      ]
    },
    {
      "cell_type": "code",
      "metadata": {
        "id": "rMAzq7sdktn5"
      },
      "source": [
        "train = train.dropna(how = 'any', axis = 'rows')"
      ],
      "execution_count": 8,
      "outputs": []
    },
    {
      "cell_type": "markdown",
      "metadata": {
        "id": "8T97TFFziNis"
      },
      "source": [
        "## Add distance features"
      ]
    },
    {
      "cell_type": "code",
      "metadata": {
        "id": "GqFkVJmZktn5"
      },
      "source": [
        "def manhattan_vectors(df):\n",
        "    df['man_vec_longitude'] = (df.dropoff_longitude - df.pickup_longitude).abs()\n",
        "    df['man_vec_latitude'] = (df.dropoff_latitude - df.pickup_latitude).abs()\n",
        "\n",
        "manhattan_vectors(train)\n",
        "manhattan_vectors(test)"
      ],
      "execution_count": 9,
      "outputs": []
    },
    {
      "cell_type": "code",
      "metadata": {
        "id": "v0lhplPRktn5",
        "colab": {
          "base_uri": "https://localhost:8080/",
          "height": 280
        },
        "outputId": "d6865a6a-0dc2-4d7e-951a-7239f7a19483"
      },
      "source": [
        "train['man_distance'] = train.man_vec_longitude + train.man_vec_latitude\n",
        "test['man_distance'] = test.man_vec_longitude + test.man_vec_latitude\n",
        "plot = train.iloc[:2000].plot.scatter('man_vec_longitude', 'man_vec_latitude')"
      ],
      "execution_count": 10,
      "outputs": [
        {
          "output_type": "display_data",
          "data": {
            "image/png": "[encoded data removed]",
            "text/plain": [
              "<Figure size 432x288 with 1 Axes>"
            ]
          },
          "metadata": {
            "tags": [],
            "needs_background": "light"
          }
        }
      ]
    },
    {
      "cell_type": "code",
      "metadata": {
        "id": "kJW0vtjOktn6"
      },
      "source": [
        "def haversine_vectors(df):\n",
        "   lat1 = df.pickup_latitude\n",
        "   lon1 = df.pickup_longitude\n",
        "   lat2 = df.dropoff_latitude\n",
        "   lon2 = df.dropoff_longitude\n",
        "   phi1 = np.radians(lat1)\n",
        "   phi2 = np.radians(lat2)\n",
        "   hv_lat = np.radians(lat2 - lat1)\n",
        "   hv_lon = np.radians(lon2 - lon1)\n",
        "\n",
        "   df['harvesine_latitude'] = hv_lat\n",
        "   df['harvesine_longitude'] = hv_lon\n",
        "\n",
        "haversine_vectors(train)"
      ],
      "execution_count": 11,
      "outputs": []
    },
    {
      "cell_type": "code",
      "metadata": {
        "id": "hEXGhazuktn6",
        "colab": {
          "base_uri": "https://localhost:8080/",
          "height": 280
        },
        "outputId": "2ca848be-6e9b-4dad-925a-815ea67c8e58"
      },
      "source": [
        "plot = train.iloc[:2000].plot.scatter('harvesine_longitude','harvesine_latitude')"
      ],
      "execution_count": 12,
      "outputs": [
        {
          "output_type": "display_data",
          "data": {
            "image/png": "[encoded data removed]",
            "text/plain": [
              "<Figure size 432x288 with 1 Axes>"
            ]
          },
          "metadata": {
            "tags": [],
            "needs_background": "light"
          }
        }
      ]
    },
    {
      "cell_type": "code",
      "metadata": {
        "id": "4ACag5mdktn6"
      },
      "source": [
        "train = train[(train.man_vec_longitude < 5.0) & (train.man_vec_latitude < 5.0)]\n",
        "train = train[(train.harvesine_longitude < 0.1) & (train.harvesine_latitude < 0.1) & (train.harvesine_longitude > -0.1) & (train.harvesine_latitude > -0.1)]"
      ],
      "execution_count": 13,
      "outputs": []
    },
    {
      "cell_type": "markdown",
      "metadata": {
        "id": "4R-07cl0iUqK"
      },
      "source": [
        "## Exploratory Data Analysis"
      ]
    },
    {
      "cell_type": "code",
      "metadata": {
        "id": "p0BIBeRFktn6",
        "colab": {
          "base_uri": "https://localhost:8080/",
          "height": 280
        },
        "outputId": "71a9810c-4352-4584-fefc-222b2ea28ba4"
      },
      "source": [
        "plot = train.iloc[:2000].plot.scatter('passenger_count', 'fare_amount')"
      ],
      "execution_count": 14,
      "outputs": [
        {
          "output_type": "display_data",
          "data": {
            "image/png": "[encoded data removed]",
            "text/plain": [
              "<Figure size 432x288 with 1 Axes>"
            ]
          },
          "metadata": {
            "tags": [],
            "needs_background": "light"
          }
        }
      ]
    },
    {
      "cell_type": "code",
      "metadata": {
        "id": "HG0EW-8uktn6"
      },
      "source": [
        "train = train[(train.fare_amount >=0)]\n",
        "train = train[(train.fare_amount <= 75)]\n",
        "train = train[(train.passenger_count > 0)]\n",
        "train = train[(train.passenger_count < 7)]"
      ],
      "execution_count": 15,
      "outputs": []
    },
    {
      "cell_type": "code",
      "metadata": {
        "id": "kkxyFhhUktn7"
      },
      "source": [
        "train['isTrain'] = 1\n",
        "test['isTrain'] = 0\n",
        "train = train.append(test)"
      ],
      "execution_count": 16,
      "outputs": []
    },
    {
      "cell_type": "code",
      "metadata": {
        "id": "E_AB12Oyktn7"
      },
      "source": [
        "def separate_time_zone(df):\n",
        "\n",
        "    def append_columns(df,new_column_name,new):\n",
        "        df[new_column_name] = new\n",
        "\n",
        "    year=[]\n",
        "    month=[]\n",
        "    day=[]\n",
        "    hour=[]\n",
        "    minutes=[]\n",
        "    seconds=[]\n",
        "    time_zone =[]\n",
        "    counter = 0\n",
        "\n",
        "    datetime_column = df['pickup_datetime']\n",
        "    for i in datetime_column:\n",
        "        date_time_obj = datetime.datetime.strptime(i , '%Y-%m-%d %H:%M:%S %Z').replace(tzinfo=pytz.UTC)\n",
        "        year.append(date_time_obj.year)\n",
        "        month.append(date_time_obj.month)\n",
        "        day.append(date_time_obj.day)\n",
        "        hour.append(date_time_obj.hour)\n",
        "        minutes.append(date_time_obj.minute)\n",
        "        seconds.append(date_time_obj.second)\n",
        "        time_zone.append(date_time_obj.tzinfo)\n",
        "        counter += 1\n",
        "        \n",
        "    append_columns(df,'year',year)\n",
        "    append_columns(df,'month',month)\n",
        "    append_columns(df,'day',day)\n",
        "    append_columns(df,'hour',hour)\n",
        "    append_columns(df,'minute',minutes)\n",
        "    append_columns(df,'second',seconds)\n",
        "    append_columns(df,'time_zone',time_zone)\n",
        "    \n",
        "    return df\n",
        "\n",
        "train = separate_time_zone(train)"
      ],
      "execution_count": 17,
      "outputs": []
    },
    {
      "cell_type": "code",
      "metadata": {
        "id": "OeOp9cT0ktn7"
      },
      "source": [
        "train['key'] = pd.to_datetime(train.key)\n",
        "train['weekday'] = train['key'].dt.dayofweek"
      ],
      "execution_count": 18,
      "outputs": []
    },
    {
      "cell_type": "code",
      "metadata": {
        "id": "fTo4wWV1ktn7"
      },
      "source": [
        "train['time_period'] = 0\n",
        "train.loc[(train.hour >= 5) & (train.hour <= 11) ,'time_period']= 0\n",
        "train.loc[(train.hour >= 12)& (train.hour <= 17) ,'time_period']= 1\n",
        "train.loc[(train.hour >= 18)& (train.hour <= 22) ,'time_period']= 2\n",
        "train.loc[(train.hour >= 23) | (train.hour <= 4) ,'time_period']= 3"
      ],
      "execution_count": 19,
      "outputs": []
    },
    {
      "cell_type": "code",
      "metadata": {
        "id": "JZEwaqEFktn7",
        "colab": {
          "base_uri": "https://localhost:8080/",
          "height": 265
        },
        "outputId": "71f7b46d-dbe4-41e7-a81f-1f823910f83f"
      },
      "source": [
        "plot = train.hour.plot.hist(bins=100 , alpha= 1)"
      ],
      "execution_count": 20,
      "outputs": [
        {
          "output_type": "display_data",
          "data": {
            "image/png": "[encoded data removed]",
            "text/plain": [
              "<Figure size 432x288 with 1 Axes>"
            ]
          },
          "metadata": {
            "tags": [],
            "needs_background": "light"
          }
        }
      ]
    },
    {
      "cell_type": "code",
      "metadata": {
        "id": "WAQ1Tqzcktn8",
        "colab": {
          "base_uri": "https://localhost:8080/",
          "height": 265
        },
        "outputId": "1fcb0329-feb5-43cb-ddbc-baccc6d0920d"
      },
      "source": [
        "plot = train.weekday.plot.hist(bins=100 , alpha= 1)"
      ],
      "execution_count": 21,
      "outputs": [
        {
          "output_type": "display_data",
          "data": {
            "image/png": "[encoded data removed]",
            "text/plain": [
              "<Figure size 432x288 with 1 Axes>"
            ]
          },
          "metadata": {
            "tags": [],
            "needs_background": "light"
          }
        }
      ]
    },
    {
      "cell_type": "code",
      "metadata": {
        "id": "vFAoYocLktn8",
        "colab": {
          "base_uri": "https://localhost:8080/",
          "height": 265
        },
        "outputId": "96385f04-abb9-489b-e6b6-1c4d83c55803"
      },
      "source": [
        "plot = train.time_period.plot.hist(bins=100 , alpha= 1)"
      ],
      "execution_count": 22,
      "outputs": [
        {
          "output_type": "display_data",
          "data": {
            "image/png": "[encoded data removed]",
            "text/plain": [
              "<Figure size 432x288 with 1 Axes>"
            ]
          },
          "metadata": {
            "tags": [],
            "needs_background": "light"
          }
        }
      ]
    },
    {
      "cell_type": "code",
      "metadata": {
        "id": "8Uzp8WgLktn8"
      },
      "source": [
        "jfk = (-73.7822222222, 40.6441666667)\n",
        "nyc = (-74.0063889, 40.7141667)\n",
        "\n",
        "\n",
        "def distance(lat1, lon1,lat2, lon2):\n",
        "   r = 3956\n",
        "   phi1 = np.radians(lat1)\n",
        "   phi2 = np.radians(lat2)\n",
        "   hv_lat = np.radians(lat2 - lat1)\n",
        "   hv_lon = np.radians(lon2 - lon1)\n",
        "\n",
        "   a = np.sin(hv_lat / 2)**2 + np.cos(phi1) * np.cos(phi2) * np.sin(hv_lon/ 2)**2\n",
        "   c = 2 * np.arctan2(np.sqrt(a), np.sqrt(1-a))\n",
        "   res = r * c\n",
        "\n",
        "   return round(res,2)"
      ],
      "execution_count": 23,
      "outputs": []
    },
    {
      "cell_type": "code",
      "metadata": {
        "id": "4o7RLybyktn8",
        "colab": {
          "base_uri": "https://localhost:8080/",
          "height": 265
        },
        "outputId": "edaa3abf-9c76-4113-8ffc-2bcb6595b1d1"
      },
      "source": [
        "pickup_jfk = distance(train.pickup_latitude, train.pickup_longitude, jfk[1], jfk[0]) < 1.5\n",
        "plot = train[pickup_jfk].fare_amount.plot.hist(bins=100 , alpha= 1)"
      ],
      "execution_count": 24,
      "outputs": [
        {
          "output_type": "display_data",
          "data": {
            "image/png": "[encoded data removed]",
            "text/plain": [
              "<Figure size 432x288 with 1 Axes>"
            ]
          },
          "metadata": {
            "tags": [],
            "needs_background": "light"
          }
        }
      ]
    },
    {
      "cell_type": "code",
      "metadata": {
        "id": "tXf4dTOoktn9",
        "colab": {
          "base_uri": "https://localhost:8080/",
          "height": 265
        },
        "outputId": "6cde3c70-b646-4a79-e7da-fa201eed4e65"
      },
      "source": [
        "dropoff_jfk = distance(train.dropoff_latitude, train.dropoff_longitude, jfk[1], jfk[0]) < 1.5\n",
        "plot = train[dropoff_jfk].fare_amount.plot.hist(bins=100 , alpha= 1)"
      ],
      "execution_count": 25,
      "outputs": [
        {
          "output_type": "display_data",
          "data": {
            "image/png": "[encoded data removed]",
            "text/plain": [
              "<Figure size 432x288 with 1 Axes>"
            ]
          },
          "metadata": {
            "tags": [],
            "needs_background": "light"
          }
        }
      ]
    },
    {
      "cell_type": "code",
      "metadata": {
        "id": "mlH-5Fkgktn9"
      },
      "source": [
        "train['pickup'] = pickup_jfk\n",
        "train['dropoff'] = dropoff_jfk\n",
        "train['JFK'] = 0 \n",
        "\n",
        "train.loc[(train.fare_amount <= 45) & (train.fare_amount <= 59) & train.dropoff == True ,'JFK']= 1\n",
        "train.loc[(train.fare_amount <= 45) & (train.fare_amount <= 59) & train.pickup == True ,'JFK']= 1\n",
        "\n",
        "train = train.drop(['pickup','dropoff'],axis = 1)\n"
      ],
      "execution_count": 26,
      "outputs": []
    },
    {
      "cell_type": "code",
      "metadata": {
        "id": "b86ryH5hktn9"
      },
      "source": [
        "ewr = (-74.175, 40.69)\n",
        "lgr = (-73.87, 40.77)"
      ],
      "execution_count": 27,
      "outputs": []
    },
    {
      "cell_type": "code",
      "metadata": {
        "id": "xSS9sDZnktn9",
        "colab": {
          "base_uri": "https://localhost:8080/",
          "height": 265
        },
        "outputId": "1839a6fd-bd7c-4657-eab9-17e34cb7ddf7"
      },
      "source": [
        "pickup_ewr = distance(train.pickup_latitude, train.pickup_longitude, ewr[1], ewr[0]) < 1.5\n",
        "plot = train[pickup_ewr].fare_amount.plot.hist(bins=100 , alpha= 1)"
      ],
      "execution_count": 28,
      "outputs": [
        {
          "output_type": "display_data",
          "data": {
            "image/png": "[encoded data removed]",
            "text/plain": [
              "<Figure size 432x288 with 1 Axes>"
            ]
          },
          "metadata": {
            "tags": [],
            "needs_background": "light"
          }
        }
      ]
    },
    {
      "cell_type": "code",
      "metadata": {
        "id": "hRpzpMVBktn_",
        "colab": {
          "base_uri": "https://localhost:8080/",
          "height": 265
        },
        "outputId": "66905572-3794-4ffe-f12f-8282d95a40ac"
      },
      "source": [
        "dropoff_ewr = distance(train.dropoff_latitude, train.dropoff_longitude, ewr[1], ewr[0]) < 1.5\n",
        "plot = train[dropoff_ewr].fare_amount.plot.hist(bins=100 , alpha= 1)"
      ],
      "execution_count": 29,
      "outputs": [
        {
          "output_type": "display_data",
          "data": {
            "image/png": "[encoded data removed]",
            "text/plain": [
              "<Figure size 432x288 with 1 Axes>"
            ]
          },
          "metadata": {
            "tags": [],
            "needs_background": "light"
          }
        }
      ]
    },
    {
      "cell_type": "code",
      "metadata": {
        "id": "fhABE_93ktoA",
        "colab": {
          "base_uri": "https://localhost:8080/",
          "height": 265
        },
        "outputId": "4b7fd7a7-0158-42e2-dbf6-ad4c27d935e5"
      },
      "source": [
        "pickup_lgr = distance(train.pickup_latitude, train.pickup_longitude, lgr[1], lgr[0]) < 1.5\n",
        "plot = train[pickup_lgr].fare_amount.plot.hist(bins=100 , alpha= 1)"
      ],
      "execution_count": 30,
      "outputs": [
        {
          "output_type": "display_data",
          "data": {
            "image/png": "[encoded data removed]",
            "text/plain": [
              "<Figure size 432x288 with 1 Axes>"
            ]
          },
          "metadata": {
            "tags": [],
            "needs_background": "light"
          }
        }
      ]
    },
    {
      "cell_type": "code",
      "metadata": {
        "id": "I_IcakKnktoA",
        "colab": {
          "base_uri": "https://localhost:8080/",
          "height": 268
        },
        "outputId": "54916483-bdcc-4107-f568-c0fd31c8709c"
      },
      "source": [
        "dropoff_lgr = distance(train.dropoff_latitude, train.dropoff_longitude, lgr[1], lgr[0]) < 1.5\n",
        "plot = train[dropoff_lgr].fare_amount.plot.hist(bins=100 , alpha= 1)"
      ],
      "execution_count": 31,
      "outputs": [
        {
          "output_type": "display_data",
          "data": {
            "image/png": "[encoded data removed]",
            "text/plain": [
              "<Figure size 432x288 with 1 Axes>"
            ]
          },
          "metadata": {
            "tags": [],
            "needs_background": "light"
          }
        }
      ]
    },
    {
      "cell_type": "code",
      "metadata": {
        "id": "8t2cYSNAktoB"
      },
      "source": [
        "train['pickup'] = pickup_ewr\n",
        "train['dropoff'] = dropoff_ewr\n",
        "train['EWR'] = 0 \n",
        "\n",
        "train.loc[(train.fare_amount <= 55) & (train.fare_amount <= 77) & train.dropoff == True ,'EWR']= 1\n",
        "train.loc[(train.fare_amount <= 55) & (train.fare_amount <= 77) & train.pickup == True ,'EWR']= 1\n",
        "\n",
        "train = train.drop(['pickup','dropoff'],axis = 1)\n",
        "\n",
        "train['pickup'] = pickup_lgr\n",
        "train['dropoff'] = dropoff_lgr\n",
        "train['LGR'] = 0 \n",
        "\n",
        "train.loc[(train.fare_amount <= 25) & (train.fare_amount <= 35) & train.dropoff == True ,'LGR']= 1\n",
        "train.loc[(train.fare_amount <= 25) & (train.fare_amount <= 35) & train.pickup == True ,'LGR']= 1\n",
        "\n",
        "train = train.drop(['pickup','dropoff'],axis = 1)"
      ],
      "execution_count": 32,
      "outputs": []
    },
    {
      "cell_type": "code",
      "metadata": {
        "id": "mlYFiAi7ktoB"
      },
      "source": [
        "train['distance_to_center']= distance(nyc[1], nyc[0], train.pickup_latitude, train.pickup_longitude)"
      ],
      "execution_count": 33,
      "outputs": []
    },
    {
      "cell_type": "code",
      "metadata": {
        "id": "N-LhOnxrktoB"
      },
      "source": [
        "train['distance_mile'] = distance(train.pickup_latitude,train.pickup_longitude, train.dropoff_latitude, train.dropoff_longitude)"
      ],
      "execution_count": 34,
      "outputs": []
    },
    {
      "cell_type": "code",
      "metadata": {
        "id": "LVcFHzNCktoB"
      },
      "source": [
        "def rush_hour_finder(df):\n",
        "    def append_columns(df,new_column_name,new):\n",
        "        df[new_column_name] = new\n",
        "    rush_hour = []\n",
        "    hour_column = df['hour']\n",
        "    for hour in hour_column:\n",
        "        if hour >= 7 and hour <= 9:\n",
        "            rush_hour.append(1)\n",
        "        elif hour >= 18 and hour <= 20:\n",
        "            rush_hour.append(1)\n",
        "        else:\n",
        "            rush_hour.append(0)\n",
        "            \n",
        "    append_columns(df,'rush_hour',rush_hour)\n",
        "    \n",
        "    return df\n",
        "train = rush_hour_finder(train)"
      ],
      "execution_count": 35,
      "outputs": []
    },
    {
      "cell_type": "code",
      "metadata": {
        "id": "uce2Uw1tktoC"
      },
      "source": [
        "test = train[(train.isTrain == 0)]\n",
        "train = train[(train.isTrain == 1)]\n",
        "train = train[(train.distance_to_center <= 20) & (train.distance_mile <= 35)]\n",
        "features = ['distance_mile','man_distance','JFK','LGR','EWR','pickup_longitude', 'pickup_latitude','dropoff_longitude','dropoff_latitude','year','month','day','hour','minute','time_period','weekday']\n",
        "\n",
        "X = train[features]\n",
        "y = train['fare_amount']"
      ],
      "execution_count": 36,
      "outputs": []
    },
    {
      "cell_type": "markdown",
      "metadata": {
        "id": "7poIKOSJidnY"
      },
      "source": [
        "## Modeling"
      ]
    },
    {
      "cell_type": "code",
      "metadata": {
        "id": "tOOzsn6SktoC"
      },
      "source": [
        "X_train, X_test, y_train, y_test = train_test_split(X, y, test_size=0.25, shuffle= True)"
      ],
      "execution_count": 37,
      "outputs": []
    },
    {
      "cell_type": "code",
      "metadata": {
        "id": "eOOFrbzfktoC",
        "colab": {
          "base_uri": "https://localhost:8080/"
        },
        "outputId": "5d10607c-10d2-4904-bf14-f56cff7aff20"
      },
      "source": [
        "y"
      ],
      "execution_count": 38,
      "outputs": [
        {
          "output_type": "execute_result",
          "data": {
            "text/plain": [
              "0           4.5\n",
              "1          16.9\n",
              "2           5.7\n",
              "3           7.7\n",
              "4           5.3\n",
              "           ... \n",
              "1999995     4.0\n",
              "1999996     7.0\n",
              "1999997    10.5\n",
              "1999998    10.9\n",
              "1999999    12.9\n",
              "Name: fare_amount, Length: 1947570, dtype: float64"
            ]
          },
          "metadata": {
            "tags": []
          },
          "execution_count": 38
        }
      ]
    },
    {
      "cell_type": "markdown",
      "metadata": {
        "id": "Fzg3x3p6ig4L"
      },
      "source": [
        "### Linear Regression"
      ]
    },
    {
      "cell_type": "code",
      "metadata": {
        "id": "1vkL23qfktoC"
      },
      "source": [
        "model_lin = Pipeline((\n",
        "        (\"standard_scaler\", StandardScaler()),\n",
        "        (\"lin_reg\", LinearRegression()),\n",
        "    ))\n",
        "model_lin.fit(X_train, y_train)\n",
        "\n",
        "y_pred = model_lin.predict(X_test)"
      ],
      "execution_count": 39,
      "outputs": []
    },
    {
      "cell_type": "code",
      "metadata": {
        "id": "4Y8D9N48ktoC",
        "colab": {
          "base_uri": "https://localhost:8080/"
        },
        "outputId": "1cc04658-2fee-4b67-d93c-58442720ed24"
      },
      "source": [
        "linear_acc = model_lin.score(X_test, y_test)\n",
        "print('Linear Regression Accuracy: ', round(linear_acc*100,2), '%')"
      ],
      "execution_count": 40,
      "outputs": [
        {
          "output_type": "stream",
          "text": [
            "Linear Regression Accuracy:  79.77 %\n"
          ],
          "name": "stdout"
        }
      ]
    },
    {
      "cell_type": "markdown",
      "metadata": {
        "id": "AuqFiTxYjPlt"
      },
      "source": [
        "### Random Forest"
      ]
    },
    {
      "cell_type": "code",
      "metadata": {
        "id": "8lseuMK3ktoC",
        "outputId": "cee9c88c-3083-4f8e-d8f8-d07abea506ed"
      },
      "source": [
        "rf = RandomForestRegressor(n_estimators = 400, random_state = 42, verbose= True, n_jobs = 6)\n",
        "rf.fit(X_train, y_train)"
      ],
      "execution_count": null,
      "outputs": [
        {
          "output_type": "stream",
          "text": [
            "[Parallel(n_jobs=6)]: Using backend ThreadingBackend with 6 concurrent workers.\n",
            "[Parallel(n_jobs=6)]: Done  38 tasks      | elapsed:  3.5min\n",
            "[Parallel(n_jobs=6)]: Done 188 tasks      | elapsed: 15.9min\n",
            "[Parallel(n_jobs=6)]: Done 400 out of 400 | elapsed: 32.8min finished\n"
          ],
          "name": "stderr"
        },
        {
          "output_type": "execute_result",
          "data": {
            "text/plain": [
              "RandomForestRegressor(bootstrap=True, criterion='mse', max_depth=None,\n",
              "                      max_features='auto', max_leaf_nodes=None,\n",
              "                      min_impurity_decrease=0.0, min_impurity_split=None,\n",
              "                      min_samples_leaf=1, min_samples_split=2,\n",
              "                      min_weight_fraction_leaf=0.0, n_estimators=400, n_jobs=6,\n",
              "                      oob_score=False, random_state=42, verbose=True,\n",
              "                      warm_start=False)"
            ]
          },
          "metadata": {
            "tags": []
          },
          "execution_count": 35
        }
      ]
    },
    {
      "cell_type": "code",
      "metadata": {
        "id": "CNZ6_2rRktoD",
        "outputId": "1e4c7368-2194-47fe-f8ca-2c86ae37dee3"
      },
      "source": [
        "y_pred = rf.predict(X_test)"
      ],
      "execution_count": null,
      "outputs": [
        {
          "output_type": "stream",
          "text": [
            "[Parallel(n_jobs=6)]: Using backend ThreadingBackend with 6 concurrent workers.\n",
            "[Parallel(n_jobs=6)]: Done  38 tasks      | elapsed:    9.3s\n",
            "[Parallel(n_jobs=6)]: Done 188 tasks      | elapsed:   42.0s\n",
            "[Parallel(n_jobs=6)]: Done 400 out of 400 | elapsed:  1.5min finished\n"
          ],
          "name": "stderr"
        }
      ]
    },
    {
      "cell_type": "code",
      "metadata": {
        "id": "0pWhZ-AXktoD",
        "outputId": "789fb21d-a887-41b0-94a5-cc7b2e127893"
      },
      "source": [
        "rf_acc = rf.score(X_test, y_test)\n",
        "print('Random Forest Regression Accuracy: ', round(rf_acc*100,2), '%')"
      ],
      "execution_count": null,
      "outputs": [
        {
          "output_type": "stream",
          "text": [
            "[Parallel(n_jobs=6)]: Using backend ThreadingBackend with 6 concurrent workers.\n",
            "[Parallel(n_jobs=6)]: Done  38 tasks      | elapsed:   14.1s\n",
            "[Parallel(n_jobs=6)]: Done 188 tasks      | elapsed:   57.9s\n",
            "Random Forest Regression Accuracy:  88.19 %\n",
            "[Parallel(n_jobs=6)]: Done 400 out of 400 | elapsed:  2.0min finished\n"
          ],
          "name": "stderr"
        }
      ]
    },
    {
      "cell_type": "markdown",
      "metadata": {
        "id": "TFn8f_DqikUs"
      },
      "source": [
        "### XGBoost"
      ]
    },
    {
      "cell_type": "code",
      "metadata": {
        "id": "a7hkk6lBktoD"
      },
      "source": [
        "data_dmatrix = xgb.DMatrix(data=X,label=y)\n",
        "X_train, X_test, y_train, y_test = train_test_split(X, y, test_size=0.2, random_state=123)\n",
        "\n",
        "xg_reg = xgb.XGBRegressor(objective ='reg:squarederror', colsample_bytree = 0.3, subsample = 1 ,learning_rate = 0.2,\n",
        "                max_depth = 9, alpha = 10, n_estimators = 100)          "
      ],
      "execution_count": 41,
      "outputs": []
    },
    {
      "cell_type": "code",
      "metadata": {
        "id": "JI2AnvaCktoD",
        "colab": {
          "base_uri": "https://localhost:8080/"
        },
        "outputId": "91f4003a-a39c-4734-c222-d4ccfec87e3a"
      },
      "source": [
        "xg_reg.fit(X_train,y_train)"
      ],
      "execution_count": 42,
      "outputs": [
        {
          "output_type": "execute_result",
          "data": {
            "text/plain": [
              "XGBRegressor(alpha=10, base_score=0.5, booster='gbtree', colsample_bylevel=1,\n",
              "             colsample_bynode=1, colsample_bytree=0.3, gamma=0,\n",
              "             importance_type='gain', learning_rate=0.2, max_delta_step=0,\n",
              "             max_depth=9, min_child_weight=1, missing=None, n_estimators=100,\n",
              "             n_jobs=1, nthread=None, objective='reg:squarederror',\n",
              "             random_state=0, reg_alpha=0, reg_lambda=1, scale_pos_weight=1,\n",
              "             seed=None, silent=None, subsample=1, verbosity=1)"
            ]
          },
          "metadata": {
            "tags": []
          },
          "execution_count": 42
        }
      ]
    },
    {
      "cell_type": "code",
      "metadata": {
        "id": "c9knQGQRktoD",
        "colab": {
          "base_uri": "https://localhost:8080/"
        },
        "outputId": "7580482d-4ffb-46da-a67a-0a8137ad5c0f"
      },
      "source": [
        "xgbr_acc = xg_reg.score(X_test, y_test)\n",
        "print('XGBoost Regression Accuracy: ', round(xgbr_acc*100,2), '%')"
      ],
      "execution_count": 43,
      "outputs": [
        {
          "output_type": "stream",
          "text": [
            "XGBoost Regression Accuracy:  87.75 %\n"
          ],
          "name": "stdout"
        }
      ]
    },
    {
      "cell_type": "markdown",
      "metadata": {
        "id": "h_bi-A16imy2"
      },
      "source": [
        "## Submission"
      ]
    },
    {
      "cell_type": "code",
      "metadata": {
        "id": "_Ze9L5ulktoE"
      },
      "source": [
        "test_key = test['key']\n",
        "test_df = test[features]"
      ],
      "execution_count": 44,
      "outputs": []
    },
    {
      "cell_type": "code",
      "metadata": {
        "id": "pRsQMCLqktoE"
      },
      "source": [
        "models = [(model_lin, 'Linear'), (xg_reg, 'XGboost')]\n",
        "submission =pd.read_csv('/gdrive/My Drive/Colab Notebooks/DS340W_Project/submission.csv')\n",
        "for model, name in models:\n",
        "    prediction = model.predict(test_df)      \n",
        "    submission['fare_amount'] = prediction\n",
        "    submission.to_csv(f'submission_{name}')\n",
        "    "
      ],
      "execution_count": 48,
      "outputs": []
    },
    {
      "cell_type": "code",
      "metadata": {
        "id": "7KEty46QktoE"
      },
      "source": [
        "prediction = xg_reg.predict(test_df) "
      ],
      "execution_count": 49,
      "outputs": []
    },
    {
      "cell_type": "code",
      "metadata": {
        "id": "dgBH4psIktoE"
      },
      "source": [
        "submission =pd.read_csv('/gdrive/My Drive/Colab Notebooks/DS340W_Project/sample_submission.csv')"
      ],
      "execution_count": 50,
      "outputs": []
    },
    {
      "cell_type": "code",
      "metadata": {
        "id": "ZnSmINFtktoE"
      },
      "source": [
        "submission['fare_amount'] = prediction"
      ],
      "execution_count": 51,
      "outputs": []
    },
    {
      "cell_type": "code",
      "metadata": {
        "id": "--gQuT9WktoE"
      },
      "source": [
        "submission.to_csv(f'submission_xgboost.csv', index = False )"
      ],
      "execution_count": 52,
      "outputs": []
    },
    {
      "cell_type": "code",
      "metadata": {
        "id": "qpdxNfQVktoE"
      },
      "source": [
        ""
      ],
      "execution_count": null,
      "outputs": []
    }
  ]
}